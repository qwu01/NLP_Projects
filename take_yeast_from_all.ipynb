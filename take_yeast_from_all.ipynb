{
 "cells": [
  {
   "cell_type": "code",
   "execution_count": 13,
   "metadata": {},
   "outputs": [],
   "source": [
    "import pickle\n",
    "import numpy as np\n",
    "from tqdm import tqdm\n",
    "from pathlib import Path"
   ]
  },
  {
   "cell_type": "code",
   "execution_count": 14,
   "metadata": {},
   "outputs": [],
   "source": [
    "main_path = Path('Data/hkunlp_instructor/hkunlp_instructor_large_embeddings_instructions.pkl')"
   ]
  },
  {
   "cell_type": "code",
   "execution_count": 15,
   "metadata": {},
   "outputs": [],
   "source": [
    "embs = pickle.load(open(main_path, 'rb'))"
   ]
  },
  {
   "cell_type": "code",
   "execution_count": 16,
   "metadata": {},
   "outputs": [
    {
     "data": {
      "text/plain": [
       "['Represent the Biomedical database entry of a gene such that genes which are functionally related have high similarity: ',\n",
       " 'Symbol: ENG1 Type: protein Organism: Rhizomucor miehei Description: Cleaves internal linkages in 1,3-beta-glucan. Tris binds the active site and may act as an inhibitor. Belongs to the glycosyl hydrolase 81 family.']"
      ]
     },
     "execution_count": 16,
     "metadata": {},
     "output_type": "execute_result"
    }
   ],
   "source": [
    "embs['descriptions'][0]"
   ]
  },
  {
   "cell_type": "code",
   "execution_count": 17,
   "metadata": {},
   "outputs": [
    {
     "name": "stdout",
     "output_type": "stream",
     "text": [
      "No symbol:  488897\n",
      "No organism:  488897\n",
      "No description:  488897\n",
      "No type:  488897\n"
     ]
    }
   ],
   "source": [
    "no_symbol = 0\n",
    "no_type = 0\n",
    "no_organism = 0\n",
    "no_description = 0\n",
    "for i, des in enumerate(embs['descriptions']):\n",
    "    if 'Symbol' not in des:\n",
    "        no_symbol += 1\n",
    "    if 'Organism' not in des:\n",
    "        no_organism += 1\n",
    "    if 'Description' not in des:\n",
    "        no_description += 1\n",
    "    if 'Type' not in des:\n",
    "        no_type += 1\n",
    "print('No symbol: ', no_symbol)\n",
    "print('No organism: ', no_organism)\n",
    "print('No description: ', no_description)\n",
    "print('No type: ', no_type)"
   ]
  },
  {
   "cell_type": "code",
   "execution_count": 19,
   "metadata": {},
   "outputs": [
    {
     "data": {
      "text/html": [
       "<div>\n",
       "<style scoped>\n",
       "    .dataframe tbody tr th:only-of-type {\n",
       "        vertical-align: middle;\n",
       "    }\n",
       "\n",
       "    .dataframe tbody tr th {\n",
       "        vertical-align: top;\n",
       "    }\n",
       "\n",
       "    .dataframe thead th {\n",
       "        text-align: right;\n",
       "    }\n",
       "</style>\n",
       "<table border=\"1\" class=\"dataframe\">\n",
       "  <thead>\n",
       "    <tr style=\"text-align: right;\">\n",
       "      <th></th>\n",
       "      <th>Symbol</th>\n",
       "      <th>Type</th>\n",
       "      <th>Organism</th>\n",
       "      <th>Description</th>\n",
       "    </tr>\n",
       "  </thead>\n",
       "  <tbody>\n",
       "    <tr>\n",
       "      <th>0</th>\n",
       "      <td>ENG1</td>\n",
       "      <td>protein</td>\n",
       "      <td>Rhizomucor miehei</td>\n",
       "      <td>Cleaves internal linkages in 1,3-beta-glucan....</td>\n",
       "    </tr>\n",
       "    <tr>\n",
       "      <th>1</th>\n",
       "      <td>cbh2</td>\n",
       "      <td>protein</td>\n",
       "      <td>Hypocrea jecorina (strain ATCC 56765 / BCRC 32...</td>\n",
       "      <td>Exocellobiohydrolases (CBH) that catalyzes th...</td>\n",
       "    </tr>\n",
       "    <tr>\n",
       "      <th>2</th>\n",
       "      <td>Orco</td>\n",
       "      <td>protein</td>\n",
       "      <td>Ooceraea biroi</td>\n",
       "      <td>Odorant coreceptor which complexes with conve...</td>\n",
       "    </tr>\n",
       "    <tr>\n",
       "      <th>3</th>\n",
       "      <td>Bli</td>\n",
       "      <td>protein</td>\n",
       "      <td>Onchocerca volvulus</td>\n",
       "      <td>Serine endoprotease which cleaves substrates ...</td>\n",
       "    </tr>\n",
       "    <tr>\n",
       "      <th>4</th>\n",
       "      <td>CCR1</td>\n",
       "      <td>protein</td>\n",
       "      <td>Petunia hybrida</td>\n",
       "      <td>Involved in the latter stages of lignin biosy...</td>\n",
       "    </tr>\n",
       "    <tr>\n",
       "      <th>...</th>\n",
       "      <td>...</td>\n",
       "      <td>...</td>\n",
       "      <td>...</td>\n",
       "      <td>...</td>\n",
       "    </tr>\n",
       "    <tr>\n",
       "      <th>488892</th>\n",
       "      <td>RPS8</td>\n",
       "      <td>protein</td>\n",
       "      <td>Griffithsia japonica</td>\n",
       "      <td>Belongs to the eukaryotic ribosomal protein e...</td>\n",
       "    </tr>\n",
       "    <tr>\n",
       "      <th>488893</th>\n",
       "      <td>ninE</td>\n",
       "      <td>protein</td>\n",
       "      <td>Escherichia phage 933W</td>\n",
       "      <td>Belongs to the ninE family.</td>\n",
       "    </tr>\n",
       "    <tr>\n",
       "      <th>488894</th>\n",
       "      <td>AP</td>\n",
       "      <td>protein</td>\n",
       "      <td>Fragaria ananassa</td>\n",
       "      <td>Interacts with FRAA1E, FRAA2 and FRAA3.</td>\n",
       "    </tr>\n",
       "    <tr>\n",
       "      <th>488895</th>\n",
       "      <td>GUCA1ANB</td>\n",
       "      <td>protein</td>\n",
       "      <td>Homo sapiens</td>\n",
       "      <td>Product of a dubious gene prediction.</td>\n",
       "    </tr>\n",
       "    <tr>\n",
       "      <th>488896</th>\n",
       "      <td>SYT15B</td>\n",
       "      <td>protein</td>\n",
       "      <td>Homo sapiens</td>\n",
       "      <td>Belongs to the synaptotagmin family.</td>\n",
       "    </tr>\n",
       "  </tbody>\n",
       "</table>\n",
       "<p>488897 rows × 4 columns</p>\n",
       "</div>"
      ],
      "text/plain": [
       "          Symbol     Type                                           Organism  \\\n",
       "0           ENG1  protein                                  Rhizomucor miehei   \n",
       "1           cbh2  protein  Hypocrea jecorina (strain ATCC 56765 / BCRC 32...   \n",
       "2           Orco  protein                                     Ooceraea biroi   \n",
       "3            Bli  protein                                Onchocerca volvulus   \n",
       "4           CCR1  protein                                    Petunia hybrida   \n",
       "...          ...      ...                                                ...   \n",
       "488892      RPS8  protein                               Griffithsia japonica   \n",
       "488893      ninE  protein                             Escherichia phage 933W   \n",
       "488894        AP  protein                                  Fragaria ananassa   \n",
       "488895  GUCA1ANB  protein                                       Homo sapiens   \n",
       "488896    SYT15B  protein                                       Homo sapiens   \n",
       "\n",
       "                                              Description  \n",
       "0        Cleaves internal linkages in 1,3-beta-glucan....  \n",
       "1        Exocellobiohydrolases (CBH) that catalyzes th...  \n",
       "2        Odorant coreceptor which complexes with conve...  \n",
       "3        Serine endoprotease which cleaves substrates ...  \n",
       "4        Involved in the latter stages of lignin biosy...  \n",
       "...                                                   ...  \n",
       "488892   Belongs to the eukaryotic ribosomal protein e...  \n",
       "488893                        Belongs to the ninE family.  \n",
       "488894            Interacts with FRAA1E, FRAA2 and FRAA3.  \n",
       "488895              Product of a dubious gene prediction.  \n",
       "488896               Belongs to the synaptotagmin family.  \n",
       "\n",
       "[488897 rows x 4 columns]"
      ]
     },
     "execution_count": 19,
     "metadata": {},
     "output_type": "execute_result"
    }
   ],
   "source": [
    "from collections import defaultdict\n",
    "import pandas as pd\n",
    "\n",
    "res = defaultdict(dict)\n",
    "organisms = set()\n",
    "entities = set()\n",
    "types = set()\n",
    "meta = []\n",
    "for i, des in enumerate(embs['descriptions']):\n",
    "    des = des[1] # for hkunlp_instructor ['Instruction', 'Description: ...']\n",
    "    symbol = des.split('Type')[0].split(':')[-1].strip()\n",
    "    type = des.split('Organism')[0].split(':')[-1].strip()\n",
    "    organism = des.split('Description')[0].split(':')[-1].strip()\n",
    "    description = des.split('Description')[-1].strip().strip(':')\n",
    "    \n",
    "    res[i]['Symbol'] = symbol\n",
    "    res[i]['Type'] = type\n",
    "    res[i]['Organism'] = organism\n",
    "    res[i]['Description'] = description\n",
    "    res[i]['Embedding'] = embs['embeddings'][i]\n",
    "\n",
    "    organisms.add(organism)\n",
    "    entities.add(organism + '_' + symbol)\n",
    "    types.add(type)\n",
    "    meta.append([symbol, type, organism, description])\n",
    "\n",
    "meta = pd.DataFrame(meta, columns=['Symbol', 'Type', 'Organism', 'Description'])\n",
    "meta"
   ]
  },
  {
   "cell_type": "code",
   "execution_count": 12,
   "metadata": {},
   "outputs": [
    {
     "name": "stdout",
     "output_type": "stream",
     "text": [
      "11145 30\n",
      "(488897, 4)\n",
      "(119830, 4)\n",
      "119830\n"
     ]
    },
    {
     "name": "stderr",
     "output_type": "stream",
     "text": [
      "100%|██████████| 488897/488897 [04:51<00:00, 1678.13it/s]\n"
     ]
    }
   ],
   "source": [
    "organism_count = meta.value_counts('Organism')\n",
    "organisms_to_keep = organism_count[organism_count > 1000].index.to_list()\n",
    "print(len(organism_count), len(organisms_to_keep))\n",
    "print(meta.shape)\n",
    "print(meta[[o in organisms_to_keep for o in meta.Organism]].shape)\n",
    "meta_to_keep = meta[[o in organisms_to_keep for o in meta.Organism]]\n",
    "embs_to_keep = meta_to_keep.index.to_list()\n",
    "print(len(embs_to_keep))\n",
    "\n",
    "res_to_keep = {\n",
    "    k: v for k, v in tqdm(res.items()) if k in embs_to_keep\n",
    "}\n",
    "pickle.dump(res_to_keep, open('Data/hkunlp_instructor/embeddings_1000.pickle', 'wb'))\n",
    "meta_to_keep.to_csv('Data/hkunlp_instructor/meta_1000.csv', index=True)"
   ]
  },
  {
   "cell_type": "code",
   "execution_count": 13,
   "metadata": {},
   "outputs": [],
   "source": [
    "import pickle\n",
    "import numpy as np\n",
    "from tqdm import tqdm\n",
    "import pandas as pd\n",
    "\n",
    "\n",
    "meta = pd.read_csv('Data/bert/meta_1000.csv', index_col=0)\n",
    "res = pickle.load(open('Data/bert/embeddings_1000.pickle', 'rb'))\n",
    "\n",
    "meta_yeast = meta[meta.Organism == 'Saccharomyces cerevisiae (strain ATCC 204508 / S288c)'][['Symbol', 'Description']]\n",
    "\n",
    "\n",
    "res_yeast = []\n",
    "for i in meta_yeast.index:\n",
    "    res_yeast.append(res[i]['Embedding'])\n",
    "res_yeast = np.array(res_yeast)\n",
    "\n",
    "res_yeast = pd.DataFrame(res_yeast, index=meta_yeast['Symbol'])\n",
    "res_yeast.head()\n",
    "\n",
    "\n",
    "\n",
    "mapper = pd.read_csv('TakeYeast/YeastMine.tsv', sep='\\t', header=None, index_col=None)\n",
    "orfs = mapper[[1]].T.values[0].tolist()\n",
    "\n",
    "sgdid2orfs = mapper[[0, 1]].set_index([0]).to_dict()[1]\n",
    "gname2orfs = mapper[[1, 3]].set_index([3]).to_dict()[1]\n",
    "\n",
    "res_yeast.index = res_yeast.index.map(lambda x: gname2orfs[x] if x in gname2orfs else 'Delete').tolist()\n",
    "\n",
    "res_yeast.head()\n",
    "\n",
    "\n",
    "res_yeast = res_yeast[res_yeast.index != 'Delete']\n",
    "res_yeast.to_csv('TakeYeast/YeastEmbeddings_BERT.tsv', sep='\\t', header=True, index=True)"
   ]
  },
  {
   "cell_type": "code",
   "execution_count": null,
   "metadata": {},
   "outputs": [],
   "source": []
  }
 ],
 "metadata": {
  "kernelspec": {
   "display_name": ".venv",
   "language": "python",
   "name": "python3"
  },
  "language_info": {
   "codemirror_mode": {
    "name": "ipython",
    "version": 3
   },
   "file_extension": ".py",
   "mimetype": "text/x-python",
   "name": "python",
   "nbconvert_exporter": "python",
   "pygments_lexer": "ipython3",
   "version": "3.10.8"
  },
  "orig_nbformat": 4,
  "vscode": {
   "interpreter": {
    "hash": "1659c5908af315cdeb7e6ce292b6230faeaf5353daa49d09f35d089cf48820b7"
   }
  }
 },
 "nbformat": 4,
 "nbformat_minor": 2
}
