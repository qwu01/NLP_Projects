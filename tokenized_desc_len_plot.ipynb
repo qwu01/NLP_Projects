{
 "cells": [
  {
   "cell_type": "code",
   "execution_count": 2,
   "metadata": {},
   "outputs": [],
   "source": [
    "import torch\n",
    "from scipy.spatial.distance import cosine\n",
    "from transformers import AutoModel, AutoTokenizer"
   ]
  },
  {
   "cell_type": "code",
   "execution_count": 3,
   "metadata": {},
   "outputs": [],
   "source": [
    "tokenizer = AutoTokenizer.from_pretrained(\"johngiorgi/declutr-sci-base\")"
   ]
  },
  {
   "cell_type": "code",
   "execution_count": 4,
   "metadata": {},
   "outputs": [
    {
     "data": {
      "text/html": [
       "<div>\n",
       "<style scoped>\n",
       "    .dataframe tbody tr th:only-of-type {\n",
       "        vertical-align: middle;\n",
       "    }\n",
       "\n",
       "    .dataframe tbody tr th {\n",
       "        vertical-align: top;\n",
       "    }\n",
       "\n",
       "    .dataframe thead th {\n",
       "        text-align: right;\n",
       "    }\n",
       "</style>\n",
       "<table border=\"1\" class=\"dataframe\">\n",
       "  <thead>\n",
       "    <tr style=\"text-align: right;\">\n",
       "      <th></th>\n",
       "      <th>Symbol</th>\n",
       "      <th>Type</th>\n",
       "      <th>Organism</th>\n",
       "      <th>Description</th>\n",
       "    </tr>\n",
       "  </thead>\n",
       "  <tbody>\n",
       "    <tr>\n",
       "      <th>0</th>\n",
       "      <td>pezo-1</td>\n",
       "      <td>protein</td>\n",
       "      <td>Caenorhabditis elegans</td>\n",
       "      <td>Pore-forming subunit of a mechanosensitive non...</td>\n",
       "    </tr>\n",
       "    <tr>\n",
       "      <th>1</th>\n",
       "      <td>Auts2</td>\n",
       "      <td>protein</td>\n",
       "      <td>Mus musculus</td>\n",
       "      <td>Component of a Polycomb group (PcG) multiprote...</td>\n",
       "    </tr>\n",
       "    <tr>\n",
       "      <th>2</th>\n",
       "      <td>CYP2D7</td>\n",
       "      <td>protein</td>\n",
       "      <td>Homo sapiens</td>\n",
       "      <td>May be responsible for the metabolism of many ...</td>\n",
       "    </tr>\n",
       "    <tr>\n",
       "      <th>3</th>\n",
       "      <td>Iqcj-Schip1</td>\n",
       "      <td>protein</td>\n",
       "      <td>Mus musculus</td>\n",
       "      <td>May play a role in action potential conduction...</td>\n",
       "    </tr>\n",
       "    <tr>\n",
       "      <th>4</th>\n",
       "      <td>msl3</td>\n",
       "      <td>protein</td>\n",
       "      <td>Mycobacterium tuberculosis (strain ATCC 25618 ...</td>\n",
       "      <td>Polyketide synthase involved in the biosynthes...</td>\n",
       "    </tr>\n",
       "  </tbody>\n",
       "</table>\n",
       "</div>"
      ],
      "text/plain": [
       "        Symbol     Type                                           Organism  \\\n",
       "0       pezo-1  protein                             Caenorhabditis elegans   \n",
       "1        Auts2  protein                                       Mus musculus   \n",
       "2       CYP2D7  protein                                       Homo sapiens   \n",
       "3  Iqcj-Schip1  protein                                       Mus musculus   \n",
       "4         msl3  protein  Mycobacterium tuberculosis (strain ATCC 25618 ...   \n",
       "\n",
       "                                         Description  \n",
       "0  Pore-forming subunit of a mechanosensitive non...  \n",
       "1  Component of a Polycomb group (PcG) multiprote...  \n",
       "2  May be responsible for the metabolism of many ...  \n",
       "3  May play a role in action potential conduction...  \n",
       "4  Polyketide synthase involved in the biosynthes...  "
      ]
     },
     "execution_count": 4,
     "metadata": {},
     "output_type": "execute_result"
    }
   ],
   "source": [
    "import pandas as pd\n",
    "df = pd.read_csv(\"Outputs/umap_embeddings_labels_1.tsv\", sep='\\t', index_col=None, header=0)\n",
    "df.head()"
   ]
  },
  {
   "cell_type": "code",
   "execution_count": 5,
   "metadata": {},
   "outputs": [],
   "source": [
    "descs = df.Description.to_list()"
   ]
  },
  {
   "cell_type": "code",
   "execution_count": 6,
   "metadata": {},
   "outputs": [
    {
     "name": "stderr",
     "output_type": "stream",
     "text": [
      "100%|██████████| 119830/119830 [00:46<00:00, 2581.65it/s]\n"
     ]
    }
   ],
   "source": [
    "from tqdm import tqdm\n",
    "toks = []\n",
    "for i in tqdm(range(len(descs))):\n",
    "    a = tokenizer.tokenize(descs[i], padding=True, truncation=True, return_tensors=\"pt\")\n",
    "    toks.append(a)"
   ]
  },
  {
   "cell_type": "code",
   "execution_count": 7,
   "metadata": {},
   "outputs": [
    {
     "name": "stderr",
     "output_type": "stream",
     "text": [
      "100%|██████████| 119830/119830 [00:00<00:00, 2860789.06it/s]"
     ]
    },
    {
     "name": "stdout",
     "output_type": "stream",
     "text": [
      "        Tokenized Description Length\n",
      "0                                344\n",
      "1                                512\n",
      "2                                101\n",
      "3                                292\n",
      "4                                262\n",
      "...                              ...\n",
      "119825                            16\n",
      "119826                             9\n",
      "119827                             9\n",
      "119828                             8\n",
      "119829                             9\n",
      "\n",
      "[119830 rows x 1 columns]\n"
     ]
    },
    {
     "name": "stderr",
     "output_type": "stream",
     "text": [
      "\n"
     ]
    }
   ],
   "source": [
    "tok_lens = []\n",
    "for i in tqdm(range(len(toks))):\n",
    "    tok_len = len(toks[i])\n",
    "    tok_lens.append(tok_len)\n",
    "tok_lens = pd.DataFrame(tok_lens, columns=['Tokenized Description Length'])\n",
    "print(tok_lens)"
   ]
  },
  {
   "cell_type": "code",
   "execution_count": 8,
   "metadata": {},
   "outputs": [
    {
     "data": {
      "text/plain": [
       "<seaborn.axisgrid.FacetGrid at 0x24864fa6830>"
      ]
     },
     "execution_count": 8,
     "metadata": {},
     "output_type": "execute_result"
    },
    {
     "data": {
      "image/png": "[encoded data removed]",
      "text/plain": [
       "<Figure size 500x500 with 1 Axes>"
      ]
     },
     "metadata": {},
     "output_type": "display_data"
    }
   ],
   "source": [
    "import seaborn as sns\n",
    "# sns.set(style='white', context='poster', rc={'figure.figsize':(10,10)})\n",
    "sns.displot(tok_lens, x=\"Tokenized Description Length\")"
   ]
  },
  {
   "cell_type": "code",
   "execution_count": 10,
   "metadata": {},
   "outputs": [],
   "source": [
    "df['tok_len'] = tok_lens\n",
    "df.to_csv('Data/meta_with_tok_len.csv', index=True)"
   ]
  },
  {
   "cell_type": "code",
   "execution_count": 19,
   "metadata": {},
   "outputs": [
    {
     "data": {
      "text/html": [
       "<div>\n",
       "<style scoped>\n",
       "    .dataframe tbody tr th:only-of-type {\n",
       "        vertical-align: middle;\n",
       "    }\n",
       "\n",
       "    .dataframe tbody tr th {\n",
       "        vertical-align: top;\n",
       "    }\n",
       "\n",
       "    .dataframe thead th {\n",
       "        text-align: right;\n",
       "    }\n",
       "</style>\n",
       "<table border=\"1\" class=\"dataframe\">\n",
       "  <thead>\n",
       "    <tr style=\"text-align: right;\">\n",
       "      <th></th>\n",
       "      <th>Symbol</th>\n",
       "      <th>Type</th>\n",
       "      <th>Organism</th>\n",
       "      <th>Description</th>\n",
       "      <th>tok_len</th>\n",
       "    </tr>\n",
       "  </thead>\n",
       "  <tbody>\n",
       "    <tr>\n",
       "      <th>42</th>\n",
       "      <td>CD300H</td>\n",
       "      <td>protein</td>\n",
       "      <td>Homo sapiens</td>\n",
       "      <td>c.61+1A&gt;G) which abolishes the intron 1 donor ...</td>\n",
       "      <td>29</td>\n",
       "    </tr>\n",
       "    <tr>\n",
       "      <th>88</th>\n",
       "      <td>EBP1</td>\n",
       "      <td>protein</td>\n",
       "      <td>Candida albicans (strain SC5314 / ATCC MYA-2876)</td>\n",
       "      <td>flavin oxidoreductase/NADH oxidase family.</td>\n",
       "      <td>11</td>\n",
       "    </tr>\n",
       "    <tr>\n",
       "      <th>97</th>\n",
       "      <td>sprtn</td>\n",
       "      <td>protein</td>\n",
       "      <td>Xenopus laevis</td>\n",
       "      <td>autocatalytic cleavage takes place in trans an...</td>\n",
       "      <td>20</td>\n",
       "    </tr>\n",
       "    <tr>\n",
       "      <th>115</th>\n",
       "      <td>PCK1</td>\n",
       "      <td>protein</td>\n",
       "      <td>Sus scrofa</td>\n",
       "      <td>a cytoplasmic one and a mitochondrial one. Bel...</td>\n",
       "      <td>22</td>\n",
       "    </tr>\n",
       "    <tr>\n",
       "      <th>123</th>\n",
       "      <td>RBM47</td>\n",
       "      <td>protein</td>\n",
       "      <td>Homo sapiens</td>\n",
       "      <td>Belongs to the RRM RBM47 family.</td>\n",
       "      <td>10</td>\n",
       "    </tr>\n",
       "    <tr>\n",
       "      <th>...</th>\n",
       "      <td>...</td>\n",
       "      <td>...</td>\n",
       "      <td>...</td>\n",
       "      <td>...</td>\n",
       "      <td>...</td>\n",
       "    </tr>\n",
       "    <tr>\n",
       "      <th>119825</th>\n",
       "      <td>LINC00312</td>\n",
       "      <td>protein</td>\n",
       "      <td>Homo sapiens</td>\n",
       "      <td>Product of a dubious CDS prediction. May be a ...</td>\n",
       "      <td>16</td>\n",
       "    </tr>\n",
       "    <tr>\n",
       "      <th>119826</th>\n",
       "      <td>yjgW</td>\n",
       "      <td>protein</td>\n",
       "      <td>Escherichia coli (strain K12)</td>\n",
       "      <td>Could be the product of a pseudogene.</td>\n",
       "      <td>9</td>\n",
       "    </tr>\n",
       "    <tr>\n",
       "      <th>119827</th>\n",
       "      <td>yubL</td>\n",
       "      <td>protein</td>\n",
       "      <td>H7</td>\n",
       "      <td>Belongs to the UPF0401 family.</td>\n",
       "      <td>9</td>\n",
       "    </tr>\n",
       "    <tr>\n",
       "      <th>119828</th>\n",
       "      <td>GUCA1ANB</td>\n",
       "      <td>protein</td>\n",
       "      <td>Homo sapiens</td>\n",
       "      <td>Product of a dubious gene prediction.</td>\n",
       "      <td>8</td>\n",
       "    </tr>\n",
       "    <tr>\n",
       "      <th>119829</th>\n",
       "      <td>SYT15B</td>\n",
       "      <td>protein</td>\n",
       "      <td>Homo sapiens</td>\n",
       "      <td>Belongs to the synaptotagmin family.</td>\n",
       "      <td>9</td>\n",
       "    </tr>\n",
       "  </tbody>\n",
       "</table>\n",
       "<p>24068 rows × 5 columns</p>\n",
       "</div>"
      ],
      "text/plain": [
       "           Symbol     Type                                          Organism  \\\n",
       "42         CD300H  protein                                      Homo sapiens   \n",
       "88           EBP1  protein  Candida albicans (strain SC5314 / ATCC MYA-2876)   \n",
       "97          sprtn  protein                                    Xenopus laevis   \n",
       "115          PCK1  protein                                        Sus scrofa   \n",
       "123         RBM47  protein                                      Homo sapiens   \n",
       "...           ...      ...                                               ...   \n",
       "119825  LINC00312  protein                                      Homo sapiens   \n",
       "119826       yjgW  protein                     Escherichia coli (strain K12)   \n",
       "119827       yubL  protein                                                H7   \n",
       "119828   GUCA1ANB  protein                                      Homo sapiens   \n",
       "119829     SYT15B  protein                                      Homo sapiens   \n",
       "\n",
       "                                              Description  tok_len  \n",
       "42      c.61+1A>G) which abolishes the intron 1 donor ...       29  \n",
       "88             flavin oxidoreductase/NADH oxidase family.       11  \n",
       "97      autocatalytic cleavage takes place in trans an...       20  \n",
       "115     a cytoplasmic one and a mitochondrial one. Bel...       22  \n",
       "123                      Belongs to the RRM RBM47 family.       10  \n",
       "...                                                   ...      ...  \n",
       "119825  Product of a dubious CDS prediction. May be a ...       16  \n",
       "119826              Could be the product of a pseudogene.        9  \n",
       "119827                     Belongs to the UPF0401 family.        9  \n",
       "119828              Product of a dubious gene prediction.        8  \n",
       "119829               Belongs to the synaptotagmin family.        9  \n",
       "\n",
       "[24068 rows x 5 columns]"
      ]
     },
     "execution_count": 19,
     "metadata": {},
     "output_type": "execute_result"
    }
   ],
   "source": [
    "temp = df[df['tok_len']<30]\n",
    "temp"
   ]
  },
  {
   "cell_type": "code",
   "execution_count": 20,
   "metadata": {},
   "outputs": [
    {
     "data": {
      "text/plain": [
       "'c.61+1A>G) which abolishes the intron 1 donor splice site leading to loss of CD300H transcripts and protein.'"
      ]
     },
     "execution_count": 20,
     "metadata": {},
     "output_type": "execute_result"
    }
   ],
   "source": [
    "temp.loc[42, 'Description']"
   ]
  },
  {
   "cell_type": "code",
   "execution_count": null,
   "metadata": {},
   "outputs": [],
   "source": [
    "temp"
   ]
  }
 ],
 "metadata": {
  "kernelspec": {
   "display_name": ".venv",
   "language": "python",
   "name": "python3"
  },
  "language_info": {
   "codemirror_mode": {
    "name": "ipython",
    "version": 3
   },
   "file_extension": ".py",
   "mimetype": "text/x-python",
   "name": "python",
   "nbconvert_exporter": "python",
   "pygments_lexer": "ipython3",
   "version": "3.10.8 (tags/v3.10.8:aaaf517, Oct 11 2022, 16:50:30) [MSC v.1933 64 bit (AMD64)]"
  },
  "orig_nbformat": 4,
  "vscode": {
   "interpreter": {
    "hash": "1659c5908af315cdeb7e6ce292b6230faeaf5353daa49d09f35d089cf48820b7"
   }
  }
 },
 "nbformat": 4,
 "nbformat_minor": 2
}
